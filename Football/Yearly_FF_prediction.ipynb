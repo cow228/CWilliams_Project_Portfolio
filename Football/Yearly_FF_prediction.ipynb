{
 "cells": [
  {
   "cell_type": "markdown",
   "metadata": {},
   "source": [
    "# Goal\n",
    "Determine if yearly fantasy footbal stats can be used to predict next year's stats <br>\n",
    "focus on year long stats to ignore huge week-to-week variation <br>\n",
    "focus on wide recievers to simply any differences between position groups<br>\n",
    "get stats from PFF.com"
   ]
  },
  {
   "cell_type": "markdown",
   "metadata": {},
   "source": [
    "### Import data from source"
   ]
  },
  {
   "cell_type": "markdown",
   "metadata": {},
   "source": [
    "filter data to just take WRs <br>\n",
    "also filter to take the top 50% of targets - this is about 30, which is about 2 per game.  This is a reasonable metric to filter out the least targeted WRs <br>\n",
    "Choose list of fields that could be relevant - this is largley a judgement call"
   ]
  },
  {
   "cell_type": "code",
   "execution_count": 376,
   "metadata": {},
   "outputs": [],
   "source": [
    "import pandas as pd\n",
    "import numpy as np\n",
    "\n",
    "years = [2018,2019,2020,2021,2022,2023,2024]\n",
    "columns = ['player', 'player_id', 'position', 'team_name', 'player_game_count',\n",
    "       'avg_depth_of_target', 'slot_rate', 'targeted_qb_rating', 'targets', 'touchdowns', 'wide_rate',\n",
    "       'yards_after_catch_per_reception', 'yards_per_reception', 'yprr']\n",
    "new_columns = ['fpts', 'fpts_game', 'targets_game', 'touchdowns_game']\n",
    "\n",
    "# import one csv file for each year\n",
    "dataframes = {}\n",
    "for year in years:\n",
    "       location = 'FF\\Yearly\\\\' + str(year) + '.csv'\n",
    "       df = pd.read_csv(location)\n",
    "       df = df[df['position'] == 'WR']\n",
    "       df = df[df['targets'] > df['targets'].quantile(0.5)]\n",
    "       \n",
    "       # calcualte fantasy points\n",
    "       df['fpts'] = df['receptions'] * 0.5 + df['yards'] * 0.1 + df['touchdowns'] * 6\n",
    "       # calculate per game metrics\n",
    "       df['fpts_game'] = df['fpts'] / df['player_game_count']\n",
    "       df['targets_game'] = df['targets'] / df['player_game_count']\n",
    "       df['touchdowns_game'] = df['touchdowns'] / df['player_game_count']\n",
    "       df_columns = columns + new_columns\n",
    "       df = df[df_columns]\n",
    "       df['year'] = year\n",
    "       dataframes[year] = df\n",
    "\n",
    "\n",
    "# select columns that contain non string values\n",
    "data_columns = ['avg_depth_of_target', 'slot_rate', 'targeted_qb_rating', 'targets', 'touchdowns', 'wide_rate',\n",
    "       'yards_after_catch_per_reception', 'yards_per_reception', 'yprr', 'fpts', 'fpts_game', 'targets_game', 'touchdowns_game']\n",
    "\n",
    "#combine all csvs into one\n",
    "wr_data = pd.concat(list(dataframes.values()))\n",
    "wr_data_names = pd.DataFrame(wr_data['player'].unique()).copy()\n",
    "wr_data_names.columns = ['player']\n",
    "\n",
    "#aggregate data by creating a list of all values for each stat that occured before the given year\n",
    "wr_df_list = []\n",
    "for year in years:\n",
    "       if year == 2018: continue\n",
    "       wr_data_split = wr_data_names.copy()\n",
    "       for column in data_columns:\n",
    "              df = wr_data[wr_data['year'] < year].groupby('player')[column].apply(list).reset_index()\n",
    "              wr_data_split = pd.merge(wr_data_split, df, 'inner', 'player')\n",
    "       wr_data_split['year'] = year\n",
    "       wr_df_list.append(wr_data_split)\n",
    "\n",
    "#store raw values here\n",
    "wr_data_true = pd.concat(wr_df_list).reset_index(drop=True)\n",
    "wr_data_true = pd.merge(wr_data_true, wr_data[['player', 'year', 'fpts_game']], 'left', ['player', 'year'])\n",
    "wr_data_true.rename(columns={'fpts_game_x': 'fpts_game', 'fpts_game_y': 'fpts_game_actual'}, inplace=True)\n",
    "wr_data_true = wr_data_true.dropna(subset=['fpts_game_actual']).reset_index(drop=True)\n",
    "\n",
    "#create new dataframe that stores the std, mean and slope for each list of values\n",
    "wr_data_stats = wr_data_true.copy()\n",
    "for column in data_columns:\n",
    "       std = np.array(np.std(pd.DataFrame(wr_data_stats[column].tolist()),axis=1))\n",
    "       mean = np.array(np.mean(pd.DataFrame(wr_data_stats[column].tolist()),axis=1))\n",
    "       slope = np.array((np.max(pd.DataFrame(wr_data_stats[column].tolist()),axis=1) \n",
    "                         - np.min(pd.DataFrame(wr_data_stats[column].tolist()),axis=1)) \n",
    "                         / pd.DataFrame(wr_data_stats[column].tolist()).notna().sum(axis=1))\n",
    "\n",
    "       wr_data_stats[column] = np.column_stack((std, mean, slope)).tolist()\n",
    "# wr_data_stats = wr_data_stats[wr_data_stats['year'] > 2019]\n",
    "\n",
    "# wr_data_stats\n",
    "# wr_data_stats.to_csv('output.csv', index=False)\n"
   ]
  },
  {
   "cell_type": "markdown",
   "metadata": {},
   "source": [
    "### First analysis"
   ]
  },
  {
   "cell_type": "markdown",
   "metadata": {},
   "source": [
    "#### Inital Results\n",
    "\n",
    "start with most likely categorie - fpts_game <br>\n",
    "see if the 3 descriptive stats about fpts_game can describe the actual result <br>\n",
    "include players that only have 1 data point - results in 418 samples\n",
    "<br><br>\n",
    "results <br>\n",
    "params = ['fpts_game_std', 'fpts_game_mean', 'fpts_game_slope'] <br>\n",
    "R score  0.3835332807297631 <br>\n",
    "Slope [-1.50362489  0.8159471   1.95048244] <br>\n",
    "Intercept 1.33 "
   ]
  },
  {
   "cell_type": "code",
   "execution_count": 160,
   "metadata": {},
   "outputs": [],
   "source": [
    "#create function to use for repeated linear regression\n",
    "from sklearn.model_selection import train_test_split\n",
    "from sklearn.linear_model import LinearRegression\n",
    "from scipy.stats import zscore\n",
    "import matplotlib.pyplot as plt\n",
    "\n",
    "def lr_predict (df,attributes,target,rand,chart=False,print_out=True, error=[]):\n",
    "    columns = attributes + error\n",
    "    X = df[columns].copy()\n",
    "    # X = X.apply(zscore)\n",
    "    y = df[target].copy()\n",
    "    X_train, X_test, y_train, y_test = train_test_split(X, y, test_size=0.33, random_state=rand)\n",
    "\n",
    "    lr = LinearRegression()\n",
    "    lr.fit(X_train[attributes], y_train)\n",
    "    r_score = lr.score(X_test[attributes],y_test)\n",
    "    if print_out: print('R score ',r_score)\n",
    "\n",
    "    if chart == True:\n",
    "        y_1 = lr.predict(X_test[attributes])\n",
    "        plt.scatter(y_1,y_test)\n",
    "        x = y = np.arange(min(y),max(y))\n",
    "        plt.plot(x, y)\n",
    "        if error != []:\n",
    "            plt.errorbar(y_1,y_test,yerr=X_test[error])\n",
    "    \n",
    "    slope = lr.coef_\n",
    "    intercept = lr.intercept_\n",
    "    if print_out: print('Slope', slope)\n",
    "    if print_out: print('Intercept', intercept)\n",
    "    return r_score, slope, intercept, lr\n",
    "\n",
    "# lr_predict(wr_pred_long,predidctive_long_itr,30)"
   ]
  },
  {
   "cell_type": "code",
   "execution_count": 212,
   "metadata": {},
   "outputs": [
    {
     "name": "stdout",
     "output_type": "stream",
     "text": [
      "418\n",
      "R score  0.39727221708207194\n",
      "Slope [-1.4584064   0.7769526   1.47933025]\n",
      "Intercept 2.0572560130311768\n"
     ]
    },
    {
     "data": {
      "text/plain": [
       "(0.39727221708207194,\n",
       " array([-1.4584064 ,  0.7769526 ,  1.47933025]),\n",
       " 2.0572560130311768,\n",
       " LinearRegression())"
      ]
     },
     "execution_count": 212,
     "metadata": {},
     "output_type": "execute_result"
    },
    {
     "data": {
      "image/png": "[encoded data removed]",
      "text/plain": [
       "<Figure size 640x480 with 1 Axes>"
      ]
     },
     "metadata": {},
     "output_type": "display_data"
    }
   ],
   "source": [
    "def stat_split (column,input):\n",
    "    df = input.copy()\n",
    "    df[column + '_std'] = [x[0] for x in df[column]]\n",
    "    df[column + '_mean'] = [x[1] for x in df[column]]\n",
    "    df[column + '_slope'] = [x[2] for x in df[column]]\n",
    "    df.drop(column,inplace=True,axis=1)\n",
    "    # df = df[df[column + '_std'] != 0]\n",
    "    return df\n",
    "\n",
    "columns = ['player','fpts_game','fpts_game_actual']\n",
    "\n",
    "\n",
    "wr = stat_split('fpts_game',wr_data_stats[columns])\n",
    "print(len(wr))\n",
    "\n",
    "lr_predict(wr,['fpts_game_std', 'fpts_game_mean', 'fpts_game_slope'], 'fpts_game_actual', 30, True)\n"
   ]
  },
  {
   "cell_type": "markdown",
   "metadata": {},
   "source": [
    "#### Next Trials \n",
    "(none more successful, yearly values very close): <br>\n",
    "compound factor: fpts_game_mean + fpts_game_slope <br>\n",
    "compound factor: fpts_game_mean + (fpts_game_slope * fpts_game_std) <br>\n",
    "factors: targets (broken intto mean, slope, std) <br>\n",
    "compound factor: earned_fpts <br>\n",
    "factors: fpts_game_mean, fpts_game_slope, earned_fpts <br> \n",
    "factors: use list of yearly values for fpts, not fpts stats\n",
    "<br><br>"
   ]
  },
  {
   "cell_type": "code",
   "execution_count": null,
   "metadata": {},
   "outputs": [
    {
     "name": "stdout",
     "output_type": "stream",
     "text": [
      "R score  0.34779720630438926\n",
      "Slope [0.78899116 0.12260949]\n",
      "Intercept 9.086668426356276\n",
      "312\n",
      "123\n"
     ]
    }
   ],
   "source": [
    "#fpts combound factors\n",
    "wr['mean_add_slope'] = wr['fpts_game_mean'] + wr['fpts_game_slope']# * wr['fpts_game_std']\n",
    "\n",
    "slope, intercept = lr_predict(wr,['fpts_game_mean', 'fpts_game_slope'], 'fpts_game_actual', 30)\n",
    "\n",
    "wr['predicted'] = wr['fpts_game_mean'] * slope[0] + wr['fpts_game_slope'] * slope[1] + intercept\n",
    "wr['high'] = wr['predicted'] + wr['fpts_game_std']\n",
    "wr['low'] = wr['predicted'] - wr['fpts_game_std']\n",
    "print(len(wr))\n",
    "print(len(wr[(wr['high'] >= wr['fpts_game_actual']) & (wr['low'] <= wr['fpts_game_actual'])]))"
   ]
  },
  {
   "cell_type": "code",
   "execution_count": 157,
   "metadata": {},
   "outputs": [
    {
     "data": {
      "text/plain": [
       "(0.3489327116426275,\n",
       " array([ 1.17548434,  0.36732656, -0.51187415]),\n",
       " 2.223773481338701)"
      ]
     },
     "execution_count": 157,
     "metadata": {},
     "output_type": "execute_result"
    }
   ],
   "source": [
    "#earned points and targets\n",
    "earned_fpts = wr_data['fpts'].sum() / wr_data['targets'].sum()\n",
    "earned_fpts\n",
    "\n",
    "columns = ['player','fpts_game','targets_game','fpts_game_actual']\n",
    "\n",
    "wr = stat_split('fpts_game',wr_data_stats[columns])\n",
    "wr = stat_split('targets_game', wr)\n",
    "wr['earned_fpts'] = wr['targets_game_mean'] * earned_fpts\n",
    "\n",
    "lr_predict(wr,['fpts_game_mean', 'fpts_game_slope', 'earned_fpts'], 'fpts_game_actual', 30, False, False)\n"
   ]
  },
  {
   "cell_type": "code",
   "execution_count": 211,
   "metadata": {},
   "outputs": [
    {
     "name": "stdout",
     "output_type": "stream",
     "text": [
      "R score  0.3635881173530251\n",
      "Slope [ 0.64958392  0.11257137 -0.07306294 -0.00375638  0.0428161  -0.10554625]\n",
      "Intercept 2.4147397122194745\n"
     ]
    },
    {
     "data": {
      "image/png": "[encoded data removed]",
      "text/plain": [
       "<Figure size 640x480 with 1 Axes>"
      ]
     },
     "metadata": {},
     "output_type": "display_data"
    }
   ],
   "source": [
    "#try true data - start with fantasy points\n",
    "#create function to split data\n",
    "def year_split(column, input):\n",
    "    df = input.copy()\n",
    "    column_names = []\n",
    "    for year in range(6):\n",
    "        year = (year + 1)\n",
    "        year_neg = year * -1\n",
    "        column_name = column + str(year_neg)\n",
    "        df[column_name] = [x[year_neg] if len(x) >= year else 0 for x in df[column]]\n",
    "        column_names.append(column_name)\n",
    "    return df, column_names\n",
    "\n",
    "columns = ['player','fpts_game','fpts_game_actual']\n",
    "wr_true, factor_columns = year_split('fpts_game', wr_data_true[columns])\n",
    "\n",
    "\n",
    "r_score, slope, intercept, lr = lr_predict(wr_true,factor_columns, 'fpts_game_actual', 30, True, True)"
   ]
  },
  {
   "cell_type": "markdown",
   "metadata": {},
   "source": [
    "#### Decide between stats and yearly\n",
    "The R_score for the stat based and yearly based methods are very close when using the same random seed (30) <br>\n",
    "run multiple trials to get an average to decide best factors <br>\n",
    "Result: Stats wins (r = 0.42) over Yearly (r = 0.38)"
   ]
  },
  {
   "cell_type": "code",
   "execution_count": 216,
   "metadata": {},
   "outputs": [
    {
     "name": "stdout",
     "output_type": "stream",
     "text": [
      "yearly 0.3879388949054279\n",
      "stats 0.42789079643378153\n"
     ]
    }
   ],
   "source": [
    "yearly_rscore = []\n",
    "stats_rscore = []\n",
    "for seed in range(100):\n",
    "    r_score, _, _, _ = lr_predict(wr_true,factor_columns, 'fpts_game_actual', seed, False, False)  \n",
    "    yearly_rscore.append(r_score)\n",
    "    r_score, _, _, _ = lr_predict(wr,['fpts_game_std', 'fpts_game_mean', 'fpts_game_slope'], 'fpts_game_actual', seed, False, False)\n",
    "    stats_rscore.append(r_score)\n",
    "\n",
    "print('yearly', str(np.mean(yearly_rscore)))\n",
    "print('stats', str(np.mean(stats_rscore)))"
   ]
  },
  {
   "cell_type": "markdown",
   "metadata": {},
   "source": [
    "### Explain Error\n",
    "based off of the factors found in inital look (fpts_mean, fpts_slope, fpts_std) try to find explaination for error <br>"
   ]
  },
  {
   "cell_type": "markdown",
   "metadata": {},
   "source": [
    "#### Regression on other factors\n",
    "first step is to create a measurement of error and to perform linear regression on remaining factors to check for correlation\n",
    "no factors created an r score better than 0.03 <br>\n",
    "before this create an average of error based on multiple regression runs with different seeds"
   ]
  },
  {
   "cell_type": "code",
   "execution_count": 220,
   "metadata": {},
   "outputs": [],
   "source": [
    "#recreate regression for use here\n",
    "data_columns = ['avg_depth_of_target', 'slot_rate', 'targeted_qb_rating', 'targets', 'touchdowns', 'wide_rate',\n",
    "       'yards_after_catch_per_reception', 'yards_per_reception', 'yprr', 'fpts_game', 'targets_game', 'touchdowns_game']\n",
    "key_data = ['fpts_game_actual']\n",
    "columns = data_columns + key_data\n",
    "wr = stat_split('fpts_game',wr_data_stats[columns])\n",
    "#calculate average error over repeated samples\n",
    "\n",
    "error_columns = []\n",
    "for seed in range(25):\n",
    "       r_score, slope, intercept, lr = lr_predict(wr,['fpts_game_std', 'fpts_game_mean', 'fpts_game_slope'], key_data[0], seed, False, False)\n",
    "       #apply to wr list and find difference from actual\n",
    "       wr['predicted'] = wr['fpts_game_std'] * slope[0] + wr['fpts_game_mean'] * slope[1] + wr['fpts_game_slope'] * slope[2] + intercept\n",
    "       error_name = 'error'+str(seed)\n",
    "       error_columns.append(error_name)\n",
    "       wr[error_name] = wr['predicted'] - wr['fpts_game_actual']\n",
    "\n",
    "wr['error'] = np.mean(wr[error_columns],axis=1)\n",
    "wr.drop(error_columns, inplace=True, axis=1)\n"
   ]
  },
  {
   "cell_type": "code",
   "execution_count": 221,
   "metadata": {},
   "outputs": [
    {
     "name": "stdout",
     "output_type": "stream",
     "text": [
      "avg_depth_of_target -0.02\n",
      "slot_rate -0.03\n",
      "targeted_qb_rating -0.013\n",
      "targets 0.006\n",
      "touchdowns -0.001\n",
      "wide_rate -0.03\n",
      "yards_after_catch_per_reception -0.007\n",
      "yards_per_reception -0.026\n",
      "yprr -0.055\n",
      "targets_game 0.012\n",
      "touchdowns_game 0.008\n"
     ]
    }
   ],
   "source": [
    "#determine if any of the other factors can explain the error\n",
    "#for each data column find the r_score of the regresion for the error\n",
    "factor_list = ['avg_depth_of_target', 'slot_rate', 'targeted_qb_rating', \n",
    "               'targets', 'touchdowns', 'wide_rate',\n",
    "               'yards_after_catch_per_reception', 'yards_per_reception', 'yprr', \n",
    "               'targets_game', 'touchdowns_game']\n",
    "key_data = ['fpts_game_actual']\n",
    "for factor in factor_list:\n",
    "    wr = stat_split(factor, wr)\n",
    "    factor_columns = [factor+'_std', factor+'_mean', factor+'_slope']\n",
    "    r_score, slope, intercept, lr = lr_predict(wr,factor_columns, 'error', 30, False, False)\n",
    "    print(factor, round(r_score,3))"
   ]
  },
  {
   "cell_type": "markdown",
   "metadata": {},
   "source": [
    "#### Find other answers"
   ]
  },
  {
   "cell_type": "code",
   "execution_count": 269,
   "metadata": {},
   "outputs": [],
   "source": [
    "#recreate regression for use here with simplified column list\n",
    "data_columns = ['fpts_game']\n",
    "key_data = ['fpts_game_actual']\n",
    "columns = data_columns + key_data\n",
    "wr = stat_split('fpts_game',wr_data_stats[columns])\n",
    "#calculate average error over repeated samples\n",
    "\n",
    "error_columns = []\n",
    "predicted_columns = []\n",
    "r_scores = []\n",
    "for seed in range(25):\n",
    "       r_score, slope, intercept, lr = lr_predict(wr,['fpts_game_std', 'fpts_game_mean', 'fpts_game_slope'], key_data[0], seed, False, False)\n",
    "       r_scores.append(r_score)\n",
    "       #apply to wr list and find difference from actual\n",
    "       wr['predicted'] = wr['fpts_game_std'] * slope[0] + wr['fpts_game_mean'] * slope[1] + wr['fpts_game_slope'] * slope[2] + intercept\n",
    "       error_name = 'error'+str(seed)\n",
    "       error_columns.append(error_name)\n",
    "       predicted_name = 'predicted'+str(seed)\n",
    "       predicted_columns.append(predicted_name)\n",
    "       wr[error_name] = wr['predicted'] - wr['fpts_game_actual']\n",
    "       wr[predicted_name] = wr['predicted']\n",
    "\n",
    "wr['predicted'] = np.mean(wr[predicted_columns], axis=1)\n",
    "wr.drop(predicted_columns, inplace=True, axis=1)\n",
    "wr['error'] = np.mean(wr[error_columns], axis=1)\n",
    "wr.drop(error_columns, inplace=True, axis=1)\n",
    "wr = wr[['fpts_game_mean', 'fpts_game_std','fpts_game_slope','fpts_game_actual','predicted','error']]\n",
    "wr['abs_error'] = np.absolute(wr['error'])"
   ]
  },
  {
   "cell_type": "markdown",
   "metadata": {},
   "source": [
    "##### Absolute Error\n",
    "Check if error is related to magnitude of fantasy points, check the same for absolute value of error <br>\n",
    "check if other factors are more closely related to absolute error than regular error none more than r=0.05<br>"
   ]
  },
  {
   "cell_type": "code",
   "execution_count": 242,
   "metadata": {},
   "outputs": [
    {
     "name": "stdout",
     "output_type": "stream",
     "text": [
      "avg_depth_of_target -0.008\n",
      "slot_rate -0.048\n",
      "targeted_qb_rating -0.025\n",
      "targets -0.018\n",
      "touchdowns -0.002\n",
      "wide_rate -0.047\n",
      "yards_after_catch_per_reception -0.03\n",
      "yards_per_reception 0.006\n",
      "yprr 0.015\n",
      "targets_game 0.011\n",
      "touchdowns_game -0.019\n"
     ]
    }
   ],
   "source": [
    "#determine if any of the other factors can explain the error\n",
    "#for each data column find the r_score of the regresion for the error\n",
    "factor_list = ['avg_depth_of_target', 'slot_rate', 'targeted_qb_rating', \n",
    "               'targets', 'touchdowns', 'wide_rate',\n",
    "               'yards_after_catch_per_reception', 'yards_per_reception', 'yprr', \n",
    "               'targets_game', 'touchdowns_game']\n",
    "key_data = ['fpts_game_actual']\n",
    "for factor in factor_list:\n",
    "    wr_temp = stat_split(factor, wr_data_stats)\n",
    "    factor_columns = [factor+'_std', factor+'_mean', factor+'_slope']\n",
    "    for sub_factor in factor_columns:\n",
    "        wr[sub_factor] = wr_temp[sub_factor]\n",
    "    r_score, slope, intercept, lr = lr_predict(wr,factor_columns, 'abs_error', 30, False, False)\n",
    "    print(factor, round(r_score,3))"
   ]
  },
  {
   "cell_type": "markdown",
   "metadata": {},
   "source": [
    "##### Evaluate Situation Changes\n",
    "measure tumult, new team, new WR on team <br>\n",
    "next: new coach, new QB"
   ]
  },
  {
   "cell_type": "markdown",
   "metadata": {},
   "source": [
    "###### New Team\n",
    "CONCLUSION: <br>\n",
    "new team penalty of -2 will be included in calculations"
   ]
  },
  {
   "cell_type": "code",
   "execution_count": 374,
   "metadata": {},
   "outputs": [],
   "source": [
    "#determine if they have a new team\n",
    "#will also determine for all other wrs on that team if the have a new teammate\n",
    "wr_tumult = wr.copy()\n",
    "wr_tumult = pd.merge(wr_tumult, wr_data_stats[['player', 'year']], 'left', left_index=True, right_index=True)\n",
    "wr_tumult = pd.merge(wr_tumult, wr_data[['player', 'year', 'team_name']], 'left', left_on=['player', 'year'], right_on=['player', 'year'])\n",
    "wr_tumult['last_year'] = wr_tumult['year'] - 1\n",
    "wr_tumult = pd.merge(wr_tumult, wr_data[['player', 'year', 'team_name']], 'left', left_on=['player', 'last_year'], right_on=['player', 'year'])\n",
    "wr_tumult.rename(columns={'year_x': 'year', 'team_name_x': 'team_name', 'team_name_y': 'last_team'}, inplace=True)\n",
    "wr_tumult.drop('year_y', inplace=True, axis=1)\n",
    "wr_tumult['same_team'] = wr_tumult['team_name'] == wr_tumult['last_team']\n"
   ]
  },
  {
   "cell_type": "code",
   "execution_count": 362,
   "metadata": {},
   "outputs": [
    {
     "name": "stdout",
     "output_type": "stream",
     "text": [
      "new team quartiles: [-0.58, 1.72, 3.54]\n",
      "same team quartiles: [-2.24, -0.35, 1.4]\n",
      "mean quartile diff:  1.9566666666666668\n"
     ]
    },
    {
     "data": {
      "image/png": "[encoded data removed]",
      "text/plain": [
       "<Figure size 640x480 with 1 Axes>"
      ]
     },
     "metadata": {},
     "output_type": "display_data"
    }
   ],
   "source": [
    "#plot each wr if they have a new team\n",
    "plt.boxplot([wr_tumult[wr_tumult['same_team'] == True]['error'], wr_tumult[wr_tumult['same_team'] == False]['error']], tick_labels=['Same Team', 'New Team'])\n",
    "new_team_quarts = []\n",
    "same_team_quarts = []\n",
    "for quart in [0.25, 0.5, 0.75]:\n",
    "    new_team_quarts.append(round(wr_tumult[wr_tumult['same_team'] == False]['error'].quantile(quart),2))\n",
    "    same_team_quarts.append(round(wr_tumult[wr_tumult['same_team'] == True]['error'].quantile(quart),2))\n",
    "quartile_diff = [new_team_quarts[0]-same_team_quarts[0],new_team_quarts[1]-same_team_quarts[1],new_team_quarts[2]-same_team_quarts[2]]\n",
    "print('new team quartiles:', str(new_team_quarts))\n",
    "print('same team quartiles:', str(same_team_quarts))\n",
    "print('mean quartile diff: ', str(np.mean(quartile_diff)))"
   ]
  },
  {
   "cell_type": "markdown",
   "metadata": {},
   "source": [
    "there is clear difference between players going to a new team: all quartiles are ~ +2 more error <br>\n",
    "This indicates that players that go to a new team are overestimated by 2 points/game"
   ]
  },
  {
   "cell_type": "code",
   "execution_count": 375,
   "metadata": {},
   "outputs": [],
   "source": [
    "#find the teams that had a new WR and the best average points/game that they added\n",
    "#this should be a representation of wether a team added a good new WR or just some guy\n",
    "team_new_wr = wr_tumult.loc[wr_tumult['same_team'] == False,['fpts_game_mean','team_name','year']].groupby(['team_name','year']).max()\n",
    "\n",
    "wr_tumult['new_wr'] = [team_new_wr.loc[(row[1]['team_name'],int(row[1]['year'])),'fpts_game_mean'] \n",
    " if (row[1]['team_name'], int(row[1]['year'])) in team_new_wr.index\n",
    " else 0\n",
    " for row in wr_tumult[['team_name','year']].iterrows()]\n"
   ]
  },
  {
   "cell_type": "code",
   "execution_count": 364,
   "metadata": {},
   "outputs": [
    {
     "name": "stdout",
     "output_type": "stream",
     "text": [
      "no good wr added;  [-2.11, -0.05, 1.82]\n",
      "good wr added:  [-1.43, 0.76, 3.09]\n",
      "mean quartile differences:  0.92\n"
     ]
    },
    {
     "data": {
      "image/png": "[encoded data removed]",
      "text/plain": [
       "<Figure size 640x480 with 1 Axes>"
      ]
     },
     "metadata": {},
     "output_type": "display_data"
    }
   ],
   "source": [
    "#10 has highest difference while keeping a large sample size (0.92, 108)\n",
    "good_wr_line = 10\n",
    "\n",
    "#find cutoff that makes the biggest difference\n",
    "for cutoff in range(1,int(max(wr_tumult['new_wr']))):\n",
    "    no_wr_quarts = []\n",
    "    new_wr_quarts = []\n",
    "    for quart in [0.25, 0.5, 0.75]:\n",
    "        no_wr_quarts.append(round(wr_tumult[wr_tumult['new_wr'] <= cutoff]['error'].quantile(quart),2))\n",
    "        new_wr_quarts.append(round(wr_tumult[wr_tumult['new_wr'] > cutoff]['error'].quantile(quart),2))\n",
    "    quartile_diff = [new_wr_quarts[0]-no_wr_quarts[0],new_wr_quarts[1]-no_wr_quarts[1],new_wr_quarts[2]-no_wr_quarts[2]]\n",
    "    if cutoff == good_wr_line:\n",
    "        print('no good wr added; ', str(no_wr_quarts))\n",
    "        print('good wr added: ', str(new_wr_quarts))\n",
    "        print('mean quartile differences: ', str(round(np.mean(quartile_diff),2)))\n",
    "\n",
    "\n",
    "\n",
    "plt.boxplot([wr_tumult[wr_tumult['new_wr'] <= good_wr_line]['error'], wr_tumult[wr_tumult['new_wr'] > good_wr_line]['error']], tick_labels=['no new wr', 'new good wr'])\n",
    "plt.show()"
   ]
  },
  {
   "cell_type": "markdown",
   "metadata": {},
   "source": [
    "there is discernable difference between players that get a new good teammate and others: average quartile is ~ +1 higher error <br>\n",
    "This indicates that players that get a good new teammate are overestimated by about 1 point per/game\n",
    "<br><br>\n",
    "bring both of these ideas together into main calculation"
   ]
  },
  {
   "cell_type": "code",
   "execution_count": 371,
   "metadata": {},
   "outputs": [
    {
     "name": "stdout",
     "output_type": "stream",
     "text": [
      "MSE Base 8.176\n",
      "r score base:  0.406\n",
      "MSE adjusted 7.81\n",
      "r score adjusted:  0.443\n"
     ]
    }
   ],
   "source": [
    "#include a 2 point pentaly for being on a new team\n",
    "#calcualte current state\n",
    "mean_sq_err = (wr_tumult['error']**2).mean()\n",
    "print('MSE Base', str(round(mean_sq_err,3)))\n",
    "#calculate r_score over multiple samples\n",
    "r_scores = []\n",
    "for seed in range(25):\n",
    "    r_score, slope, intercept, lr = lr_predict(wr_tumult,['predicted'], 'fpts_game_actual', seed, False, False)\n",
    "    r_scores.append(r_score)\n",
    "print('r score base: ', str(round(np.mean(r_scores),3)))\n",
    "\n",
    "\n",
    "#calcualte new state\n",
    "wr_tumult['ajd_prediction'] = wr_tumult['predicted'] + (1 - wr_tumult['same_team'].astype(int)) * -2\n",
    "wr_tumult['adj_error'] = wr_tumult['ajd_prediction'] - wr_tumult['fpts_game_actual']\n",
    "mean_sq_err = (wr_tumult['adj_error']**2).mean()\n",
    "print('MSE adjusted', str(round(mean_sq_err,3)))\n",
    "#calculate r_score over multiple samples\n",
    "r_scores = []\n",
    "for seed in range(25):\n",
    "    r_score, slope, intercept, lr = lr_predict(wr_tumult,['ajd_prediction'], 'fpts_game_actual', seed, False, False)\n",
    "    r_scores.append(r_score)\n",
    "print('r score adjusted: ', str(round(np.mean(r_scores),3)))"
   ]
  },
  {
   "cell_type": "code",
   "execution_count": 373,
   "metadata": {},
   "outputs": [
    {
     "name": "stdout",
     "output_type": "stream",
     "text": [
      "MSE adjusted 8.221\n",
      "r score adjusted:  0.434\n"
     ]
    }
   ],
   "source": [
    "#calcualte new state\n",
    "good_wr_line = 10\n",
    "wr_tumult['ajd_prediction'] = wr_tumult['ajd_prediction'] + (wr_tumult['new_wr'] > good_wr_line).astype(int) * -1\n",
    "wr_tumult['adj_error'] = wr_tumult['ajd_prediction'] - wr_tumult['fpts_game_actual']\n",
    "mean_sq_err = (wr_tumult['adj_error']**2).mean()\n",
    "print('MSE adjusted', str(round(mean_sq_err,3)))\n",
    "#calculate r_score over multiple samples\n",
    "r_scores = []\n",
    "for seed in range(25):\n",
    "    r_score, slope, intercept, lr = lr_predict(wr_tumult,['ajd_prediction'], 'fpts_game_actual', seed, False, False)\n",
    "    r_scores.append(r_score)\n",
    "print('r score adjusted: ', str(round(np.mean(r_scores),3)))"
   ]
  },
  {
   "cell_type": "markdown",
   "metadata": {},
   "source": [
    "RESULTS with just new team penalty: <br>\n",
    "MSE Base 8.176<br>\n",
    "r score base:  0.406<br>\n",
    "MSE adjusted 7.81<br>\n",
    "r score adjusted:  0.443<br>\n",
    "<br><br>\n",
    "RESULTS with new team penalty new teammate penalty: <br>\n",
    "MSE adjusted 8.221<br>\n",
    "r score adjusted:  0.434<br>\n",
    "\n",
    "CONCLUSION: <br>\n",
    "new team penalty of -2 will be included in calculations"
   ]
  },
  {
   "cell_type": "markdown",
   "metadata": {},
   "source": [
    "Also tested: <br>\n",
    "new factor: value of wr lost from team - had no afffect <br>\n",
    "tested: new_wr, wr_lost and wr_added_better as a linear regression input - no affect"
   ]
  },
  {
   "cell_type": "markdown",
   "metadata": {},
   "source": [
    "###### New coach"
   ]
  }
 ],
 "metadata": {
  "kernelspec": {
   "display_name": "Python 3",
   "language": "python",
   "name": "python3"
  },
  "language_info": {
   "codemirror_mode": {
    "name": "ipython",
    "version": 3
   },
   "file_extension": ".py",
   "mimetype": "text/x-python",
   "name": "python",
   "nbconvert_exporter": "python",
   "pygments_lexer": "ipython3",
   "version": "3.11.9"
  }
 },
 "nbformat": 4,
 "nbformat_minor": 2
}
